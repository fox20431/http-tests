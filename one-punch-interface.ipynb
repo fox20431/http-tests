{
 "cells": [
  {
   "cell_type": "code",
   "execution_count": 150,
   "metadata": {},
   "outputs": [],
   "source": [
    "import requests\n",
    "from pprint import pprint\n",
    "from collections import namedtuple\n",
    "import json\n",
    "\n",
    "# Typing\n",
    "from typing import *\n",
    "from requests.models import *\n",
    "\n",
    "# blog_stub = 'http://localhost:7010/api/blog'\n",
    "blog_stub = 'http://localhost:8080/api/blog'"
   ]
  },
  {
   "cell_type": "code",
   "execution_count": 151,
   "metadata": {},
   "outputs": [],
   "source": [
    "# 创建 HTTP 请求结构体\n",
    "HTTPRequest = namedtuple('HTTPRequest', ['method', 'url', 'headers', 'body'])\n",
    "\n",
    "# 创建 HTTP 响应结构体\n",
    "HTTPResponse = namedtuple('HTTPResponse', ['status_code', 'headers', 'body'])\n",
    "\n",
    "def parse_request(req: Request) -> HTTPRequest:\n",
    "    method = req.method\n",
    "    url = req.url\n",
    "    headers = dict(req.headers)\n",
    "    body = req.body\n",
    "    return HTTPRequest(method=method, url=url, headers=headers, body=body)\n",
    "\n",
    "def parse_response(res: Response) -> HTTPResponse:\n",
    "    status_code = res.status_code\n",
    "    headers = dict(res.headers)\n",
    "    body = res.text\n",
    "    return HTTPResponse(status_code=status_code, headers=headers, body=body)\n",
    "\n",
    "def show_response(res):\n",
    "    http_response = parse_response(res)\n",
    "    # Status\n",
    "    print(f'Status: {http_response.status_code}')\n",
    "    print()\n",
    "\n",
    "    # Header\n",
    "    print(f'Header')\n",
    "    print(f'---')\n",
    "    for header in http_response.headers:\n",
    "        print(f'{header}: {http_response.headers[header]}')\n",
    "    print(f'---\\n')\n",
    "\n",
    "    # Body\n",
    "    print(f'Body')\n",
    "    print(f'---')\n",
    "    # 尝试解析成JSON\n",
    "    try:\n",
    "        body = json.loads(http_response.body)\n",
    "        # 设置缩进，用于格式化格式化JSON\n",
    "        print(json.dumps(body, indent=2))\n",
    "    except ValueError:\n",
    "        print(f'{http_response.body}')\n",
    "    print(f'---')\n",
    "    "
   ]
  },
  {
   "attachments": {},
   "cell_type": "markdown",
   "metadata": {},
   "source": [
    "## Blog"
   ]
  },
  {
   "cell_type": "code",
   "execution_count": 152,
   "metadata": {},
   "outputs": [
    {
     "name": "stdout",
     "output_type": "stream",
     "text": [
      "Status: 200\n",
      "\n",
      "Header\n",
      "---\n",
      "Connection: close\n",
      "Content-Length: 16\n",
      "Content-Type: text/plain;charset=UTF-8\n",
      "Date: Thu, 16 Feb 2023 15:08:28 GMT\n",
      "---\n",
      "\n",
      "Body\n",
      "---\n",
      "Welcome to blog!\n",
      "---\n"
     ]
    }
   ],
   "source": [
    "# Test\n",
    "res = requests.get(f'{blog_stub}/')\n",
    "show_response(res)"
   ]
  },
  {
   "attachments": {},
   "cell_type": "markdown",
   "metadata": {},
   "source": [
    "Add a post:"
   ]
  },
  {
   "cell_type": "code",
   "execution_count": 153,
   "metadata": {},
   "outputs": [
    {
     "name": "stdout",
     "output_type": "stream",
     "text": [
      "{\n",
      "  \"id\": 20,\n",
      "  \"title\": \"Python is No.1\",\n",
      "  \"body\": \"Python is a high-level, interpreted programming language that was first released in 1991.\",\n",
      "  \"createdAt\": \"2023-02-16T23:08:30.543+08:00\"\n",
      "}\n",
      "Status: 200\n",
      "\n",
      "Header\n",
      "---\n",
      "Connection: close\n",
      "Transfer-Encoding: chunked\n",
      "Content-Type: application/json\n",
      "Date: Thu, 16 Feb 2023 15:08:30 GMT\n",
      "---\n",
      "\n",
      "Body\n",
      "---\n",
      "{\n",
      "  \"id\": 20,\n",
      "  \"title\": \"Python is No.1\",\n",
      "  \"body\": \"Python is a high-level, interpreted programming language that was first released in 1991.\",\n",
      "  \"createdAt\": \"2023-02-16T23:08:30.543+08:00\"\n",
      "}\n",
      "---\n"
     ]
    }
   ],
   "source": [
    "res = requests.post(f'{blog_stub}/posts', json={\n",
    "    \"title\": \"Python is No.1\",\n",
    "    \"body\": \"Python is a high-level, interpreted programming language that was first released in 1991.\"\n",
    "})\n",
    "print(json.dumps(json.loads(res.text),indent=2))\n",
    "show_response(res)"
   ]
  },
  {
   "attachments": {},
   "cell_type": "markdown",
   "metadata": {},
   "source": [
    "Get a post by id:"
   ]
  },
  {
   "cell_type": "code",
   "execution_count": 121,
   "metadata": {},
   "outputs": [
    {
     "name": "stdout",
     "output_type": "stream",
     "text": [
      "Status: 200\n",
      "\n",
      "Header\n",
      "---\n",
      "Connection: close\n",
      "Transfer-Encoding: chunked\n",
      "Content-Type: application/json\n",
      "Date: Thu, 16 Feb 2023 14:49:40 GMT\n",
      "---\n",
      "\n",
      "Body\n",
      "---\n",
      "{'body': 'Python is a high-level, interpreted programming language that was '\n",
      "         'first released in 1991.',\n",
      " 'createdAt': '2023-02-16T21:06:26.877+08:00',\n",
      " 'id': 1,\n",
      " 'title': 'Python is No.1'}\n",
      "---\n"
     ]
    }
   ],
   "source": [
    "res = requests.get(f'{blog_stub}/posts/1')\n",
    "show_response(res)"
   ]
  },
  {
   "attachments": {},
   "cell_type": "markdown",
   "metadata": {},
   "source": [
    "Page start with 0"
   ]
  },
  {
   "cell_type": "code",
   "execution_count": 41,
   "metadata": {},
   "outputs": [
    {
     "name": "stdout",
     "output_type": "stream",
     "text": [
      "{'content': [{'body': None,\n",
      "              'createdAt': '2023-02-02T05:45:05.417+00:00',\n",
      "              'id': 1,\n",
      "              'title': 'Python is No.1'},\n",
      "             {'body': None,\n",
      "              'createdAt': '2023-02-02T05:45:15.025+00:00',\n",
      "              'id': 2,\n",
      "              'title': 'Python is No.1'},\n",
      "             {'body': None,\n",
      "              'createdAt': '2023-02-02T06:28:48.381+00:00',\n",
      "              'id': 3,\n",
      "              'title': 'Python is No.1'},\n",
      "             {'body': None,\n",
      "              'createdAt': '2023-02-02T07:43:17.315+00:00',\n",
      "              'id': 4,\n",
      "              'title': 'Python is No.1'},\n",
      "             {'body': 'Python is a high-level, interpreted programming '\n",
      "                      'language that was first released in 1991.',\n",
      "              'createdAt': '2023-02-02T07:48:31.004+00:00',\n",
      "              'id': 5,\n",
      "              'title': 'Python is No.1'}],\n",
      " 'empty': False,\n",
      " 'first': True,\n",
      " 'last': False,\n",
      " 'number': 0,\n",
      " 'numberOfElements': 5,\n",
      " 'pageable': {'offset': 0,\n",
      "              'pageNumber': 0,\n",
      "              'pageSize': 5,\n",
      "              'paged': True,\n",
      "              'sort': {'empty': True, 'sorted': False, 'unsorted': True},\n",
      "              'unpaged': False},\n",
      " 'size': 5,\n",
      " 'sort': {'empty': True, 'sorted': False, 'unsorted': True},\n",
      " 'totalElements': 7,\n",
      " 'totalPages': 2}\n"
     ]
    }
   ],
   "source": [
    "res = requests.get(f'{blog_stub}/posts?page=0&size=5&overview=false')\n",
    "data = json.loads(res.text)\n",
    "pprint(data)"
   ]
  }
 ],
 "metadata": {
  "kernelspec": {
   "display_name": "Python 3",
   "language": "python",
   "name": "python3"
  },
  "language_info": {
   "codemirror_mode": {
    "name": "ipython",
    "version": 3
   },
   "file_extension": ".py",
   "mimetype": "text/x-python",
   "name": "python",
   "nbconvert_exporter": "python",
   "pygments_lexer": "ipython3",
   "version": "3.10.10"
  },
  "orig_nbformat": 4,
  "vscode": {
   "interpreter": {
    "hash": "a9fec8c3c891dc5baa601a9efdcf99e7e4bb2d606d152ca1594913dddca4c14f"
   }
  }
 },
 "nbformat": 4,
 "nbformat_minor": 2
}
